{
 "cells": [
  {
   "attachments": {},
   "cell_type": "markdown",
   "metadata": {},
   "source": [
    "## Neural Networks and Computational Intelligence\n",
    "## Assignment 3"
   ]
  },
  {
   "attachments": {},
   "cell_type": "markdown",
   "metadata": {},
   "source": [
    "## Libraries"
   ]
  },
  {
   "cell_type": "code",
   "execution_count": 1050,
   "metadata": {},
   "outputs": [],
   "source": [
    "import math\n",
    "import random\n",
    "import numpy as np\n",
    "import matplotlib.pyplot as plt"
   ]
  },
  {
   "attachments": {},
   "cell_type": "markdown",
   "metadata": {},
   "source": [
    "## A - Stochastic Gradient Descent"
   ]
  },
  {
   "cell_type": "code",
   "execution_count": 1051,
   "metadata": {},
   "outputs": [],
   "source": [
    "class NeuralNetwork:\n",
    "    def __init__(self, X, K, y):\n",
    "        self.input = X                                                      # input layer dimensions\n",
    "        self.K = K                                                          # hidden layer dimensions\n",
    "        self.weights1 = np.random.rand(self.input.shape[1], self.K)         # first weights \n",
    "        self.weights2 = np.ones((self.K, 1))                                # second weights\n",
    "        self.learning = 0.05\n",
    "        self.y = y                                                          # expected value\n",
    "        self.output = np.zeros(self.y.shape)\n",
    "\n",
    "    def feedforward (self):\n",
    "        self.layer = np.tanh(np.dot(self.input, self.weights1))             # input -> hidden\n",
    "        self.output = np.tanh(np.dot(self.layer, self.weights2))            # hidden -> output\n",
    "        return self.output\n",
    "    \n",
    "    def backpropagation(self):\n",
    "\n",
    "        P = self.input.shape[1]\n",
    "\n",
    "        E = 1/P * np.sum(pow(self.y - self.output, 2) / 2)\n",
    "\n",
    "        # derivative2 = np.dot(self.layer.T, pow(self.y - self.output, 2) / 2)\n",
    "        # derivative1 = np.dot(self.input.T, pow(self.y - self.output, 2) / 2)\n",
    "\n",
    "        self.weights1 += E * -self.learning\n",
    "        # self.weights2 += derivative2 * -self.learning\n",
    "\n",
    "    def train(self, X, y):\n",
    "        self.output = self.feedforward()\n",
    "        self.backpropagation()"
   ]
  },
  {
   "attachments": {},
   "cell_type": "markdown",
   "metadata": {},
   "source": [
    "## B - Regression Problem"
   ]
  },
  {
   "attachments": {},
   "cell_type": "markdown",
   "metadata": {},
   "source": [
    "Load Data"
   ]
  },
  {
   "cell_type": "code",
   "execution_count": 1052,
   "metadata": {},
   "outputs": [],
   "source": [
    "xi = np.genfromtxt('xi.csv', delimiter=',')\n",
    "tau = np.genfromtxt('tau.csv', delimiter=',')"
   ]
  },
  {
   "attachments": {},
   "cell_type": "markdown",
   "metadata": {},
   "source": [
    "Train Model"
   ]
  },
  {
   "cell_type": "code",
   "execution_count": 1053,
   "metadata": {},
   "outputs": [],
   "source": [
    "p = len(tau)\n",
    "epochs = 10000\n",
    "loss = []\n",
    "count = []\n",
    "\n",
    "for i in range(1):\n",
    "    current_p = random.randint(0, 4999)\n",
    "    X = xi[:, current_p].reshape(1, 50)\n",
    "    y = tau[current_p]\n",
    "\n",
    "    NN = NeuralNetwork(X, 2, y)\n",
    "\n",
    "    for i in range(epochs):\n",
    "        # print (\"for iteration # \" + str(i) + \"\\n\")\n",
    "        # print (\"Input : \\n\" + str(X))\n",
    "        # print (\"Actual Output: \\n\" + str(y))\n",
    "        # print (\"Predicted Output: \\n\" + str(NN.feedforward()))\n",
    "        # print (\"Loss: \" + str(np.mean(np.square(y - NN.feedforward()))))\n",
    "        # print (\"\\n\")\n",
    "\n",
    "        NN.train(X, y)\n",
    "        loss.append(np.mean(np.square(y - NN.feedforward())))\n",
    "        count.append(i)"
   ]
  },
  {
   "cell_type": "code",
   "execution_count": 1054,
   "metadata": {},
   "outputs": [
    {
     "data": {
      "image/png": "[encoded data removed]",
      "text/plain": [
       "<Figure size 640x480 with 1 Axes>"
      ]
     },
     "metadata": {},
     "output_type": "display_data"
    }
   ],
   "source": [
    "plt.plot(count, loss)\n",
    "plt.show()"
   ]
  }
 ],
 "metadata": {
  "kernelspec": {
   "display_name": ".venv",
   "language": "python",
   "name": "python3"
  },
  "language_info": {
   "codemirror_mode": {
    "name": "ipython",
    "version": 3
   },
   "file_extension": ".py",
   "mimetype": "text/x-python",
   "name": "python",
   "nbconvert_exporter": "python",
   "pygments_lexer": "ipython3",
   "version": "3.10.9"
  },
  "orig_nbformat": 4,
  "vscode": {
   "interpreter": {
    "hash": "34da2573daf6a20d10ce798144895174b5f9052e37f6cb208729324da7149b25"
   }
  }
 },
 "nbformat": 4,
 "nbformat_minor": 2
}
