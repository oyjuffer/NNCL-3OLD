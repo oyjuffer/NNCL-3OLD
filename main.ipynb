{
 "cells": [
  {
   "attachments": {},
   "cell_type": "markdown",
   "metadata": {},
   "source": [
    "## Neural Networks and Computational Intelligence\n",
    "## Assignment 3"
   ]
  },
  {
   "attachments": {},
   "cell_type": "markdown",
   "metadata": {},
   "source": [
    "## Libraries"
   ]
  },
  {
   "cell_type": "code",
   "execution_count": 454,
   "metadata": {},
   "outputs": [],
   "source": [
    "import math\n",
    "import random\n",
    "import numpy as np\n",
    "# import matplotlib.pyplot as plt"
   ]
  },
  {
   "attachments": {},
   "cell_type": "markdown",
   "metadata": {},
   "source": [
    "## A - Stochastic Gradient Descent"
   ]
  },
  {
   "cell_type": "code",
   "execution_count": 455,
   "metadata": {},
   "outputs": [],
   "source": [
    "class NeuralNetwork:\n",
    "    def __init__(self, X, K, y):\n",
    "        self.input = X                                                      # input layer dimensions\n",
    "        self.K = K                                                          # hidden layer dimensions\n",
    "        self.weights1 = np.random.rand(self.input.shape[1], self.K)         # first weights \n",
    "        self.weights2 = np.ones((self.K, 1))                     # second weights\n",
    "        self.learning = 0.05\n",
    "        self.y = y                                                          # expected value\n",
    "        self.output = np.zeros(self.y.shape)\n",
    "\n",
    "    def feedforward (self):\n",
    "        self.layer = np.tanh(np.dot(self.input, self.weights1))             # input -> hidden\n",
    "        self.output = np.tanh(np.dot(self.layer, self.weights2))        # hidden -> output\n",
    "        return self.output\n",
    "    \n",
    "    def backpropagation(self):\n",
    "        self.derivative2 = np.dot(self.layer.T, pow(self.y - self.output, 2) / 2)\n",
    "        self.derivative1 = np.dot(self.input.T, pow(self.y - self.output, 2) / 2)\n",
    "\n",
    "        print(self.input.shape)\n",
    "        print(self.weights1.shape)\n",
    "        print(self.weights2.shape)\n",
    "        print(self.layer.T.shape)\n",
    "\n",
    "        self.weights1 += self.derivative1 * self.learning\n",
    "        # self.weights2 += derivative2 * -self.learning\n",
    "\n",
    "    def train(self, X, y):\n",
    "        self.output = self.feedforward()\n",
    "        self.backpropagation()"
   ]
  },
  {
   "attachments": {},
   "cell_type": "markdown",
   "metadata": {},
   "source": [
    "## B - Regression Problem"
   ]
  },
  {
   "attachments": {},
   "cell_type": "markdown",
   "metadata": {},
   "source": [
    "Load Data"
   ]
  },
  {
   "cell_type": "code",
   "execution_count": 456,
   "metadata": {},
   "outputs": [],
   "source": [
    "xi = np.genfromtxt('xi.csv', delimiter=',')\n",
    "tau = np.genfromtxt('tau.csv', delimiter=',')"
   ]
  },
  {
   "attachments": {},
   "cell_type": "markdown",
   "metadata": {},
   "source": [
    "Train Model"
   ]
  },
  {
   "cell_type": "code",
   "execution_count": 457,
   "metadata": {},
   "outputs": [
    {
     "name": "stdout",
     "output_type": "stream",
     "text": [
      "-0.15918\n"
     ]
    },
    {
     "ename": "IndexError",
     "evalue": "tuple index out of range",
     "output_type": "error",
     "traceback": [
      "\u001b[1;31m---------------------------------------------------------------------------\u001b[0m",
      "\u001b[1;31mIndexError\u001b[0m                                Traceback (most recent call last)",
      "Cell \u001b[1;32mIn[457], line 11\u001b[0m\n\u001b[0;32m      7\u001b[0m y \u001b[39m=\u001b[39m tau[current_p]\n\u001b[0;32m      9\u001b[0m \u001b[39mprint\u001b[39m(y)\n\u001b[1;32m---> 11\u001b[0m NN \u001b[39m=\u001b[39m NeuralNetwork(X, \u001b[39m2\u001b[39;49m, y)\n\u001b[0;32m     13\u001b[0m \u001b[39mfor\u001b[39;00m i \u001b[39min\u001b[39;00m \u001b[39mrange\u001b[39m(epochs):\n\u001b[0;32m     14\u001b[0m     \u001b[39m# print (\"for iteration # \" + str(i) + \"\\n\")\u001b[39;00m\n\u001b[0;32m     15\u001b[0m     \u001b[39m# # print (\"Input : \\n\" + str(X))\u001b[39;00m\n\u001b[0;32m     16\u001b[0m     \u001b[39m# print (\"Actual Output: \\n\" + str(y))\u001b[39;00m\n\u001b[0;32m     17\u001b[0m     \u001b[39m# print (\"Predicted Output: \\n\" + str(NN.feedforward()))\u001b[39;00m\n\u001b[0;32m     18\u001b[0m     \u001b[39mprint\u001b[39m (\u001b[39m\"\u001b[39m\u001b[39mLoss: \u001b[39m\u001b[39m\\n\u001b[39;00m\u001b[39m\"\u001b[39m \u001b[39m+\u001b[39m \u001b[39mstr\u001b[39m(np\u001b[39m.\u001b[39mmean(np\u001b[39m.\u001b[39msquare(tau \u001b[39m-\u001b[39m NN\u001b[39m.\u001b[39mfeedforward()))))\n",
      "Cell \u001b[1;32mIn[455], line 7\u001b[0m, in \u001b[0;36mNeuralNetwork.__init__\u001b[1;34m(self, X, K, y)\u001b[0m\n\u001b[0;32m      5\u001b[0m \u001b[39mself\u001b[39m\u001b[39m.\u001b[39mK \u001b[39m=\u001b[39m K                                                          \u001b[39m# hidden layer dimensions\u001b[39;00m\n\u001b[0;32m      6\u001b[0m \u001b[39mself\u001b[39m\u001b[39m.\u001b[39mweights1 \u001b[39m=\u001b[39m np\u001b[39m.\u001b[39mrandom\u001b[39m.\u001b[39mrand(\u001b[39mself\u001b[39m\u001b[39m.\u001b[39minput\u001b[39m.\u001b[39mshape[\u001b[39m1\u001b[39m], \u001b[39mself\u001b[39m\u001b[39m.\u001b[39mK)         \u001b[39m# first weights \u001b[39;00m\n\u001b[1;32m----> 7\u001b[0m \u001b[39mself\u001b[39m\u001b[39m.\u001b[39mweights2 \u001b[39m=\u001b[39m np\u001b[39m.\u001b[39mones((\u001b[39mself\u001b[39m\u001b[39m.\u001b[39mK, \u001b[39mself\u001b[39;49m\u001b[39m.\u001b[39;49my\u001b[39m.\u001b[39;49mshape[\u001b[39m0\u001b[39;49m]))                     \u001b[39m# second weights\u001b[39;00m\n\u001b[0;32m      8\u001b[0m \u001b[39mself\u001b[39m\u001b[39m.\u001b[39mlearning \u001b[39m=\u001b[39m \u001b[39m0.05\u001b[39m                                                      \u001b[39m# expected value\u001b[39;00m\n\u001b[0;32m      9\u001b[0m \u001b[39mself\u001b[39m\u001b[39m.\u001b[39moutput \u001b[39m=\u001b[39m np\u001b[39m.\u001b[39mzeros(\u001b[39mself\u001b[39m\u001b[39m.\u001b[39my\u001b[39m.\u001b[39mshape)\n",
      "\u001b[1;31mIndexError\u001b[0m: tuple index out of range"
     ]
    }
   ],
   "source": [
    "p = len(tau)\n",
    "epochs = 1000\n",
    "\n",
    "for i in range(1):\n",
    "    current_p = random.randint(0, 4999)\n",
    "    X = xi[:, current_p].reshape(1, 50)\n",
    "    y = tau[current_p]\n",
    "\n",
    "    print(y)\n",
    "\n",
    "    NN = NeuralNetwork(X, 2, y)\n",
    "\n",
    "    for i in range(epochs):\n",
    "        # print (\"for iteration # \" + str(i) + \"\\n\")\n",
    "        # # print (\"Input : \\n\" + str(X))\n",
    "        # print (\"Actual Output: \\n\" + str(y))\n",
    "        # print (\"Predicted Output: \\n\" + str(NN.feedforward()))\n",
    "        print (\"Loss: \\n\" + str(np.mean(np.square(tau - NN.feedforward()))))\n",
    "        print (\"\\n\")\n",
    "\n",
    "        NN.train(X, y)"
   ]
  }
 ],
 "metadata": {
  "kernelspec": {
   "display_name": ".venv",
   "language": "python",
   "name": "python3"
  },
  "language_info": {
   "codemirror_mode": {
    "name": "ipython",
    "version": 3
   },
   "file_extension": ".py",
   "mimetype": "text/x-python",
   "name": "python",
   "nbconvert_exporter": "python",
   "pygments_lexer": "ipython3",
   "version": "3.10.9"
  },
  "orig_nbformat": 4,
  "vscode": {
   "interpreter": {
    "hash": "34da2573daf6a20d10ce798144895174b5f9052e37f6cb208729324da7149b25"
   }
  }
 },
 "nbformat": 4,
 "nbformat_minor": 2
}
